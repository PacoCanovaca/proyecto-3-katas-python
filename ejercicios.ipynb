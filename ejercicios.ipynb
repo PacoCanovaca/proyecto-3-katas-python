{
 "cells": [
  {
   "cell_type": "markdown",
   "id": "21778060",
   "metadata": {},
   "source": [
    "Ejercicio 1 - Escribe una función que reciba una cadena de texto como parámetro y devuelva un diccionario con las frecuencias de cada letra en la cadena. Los espacios no deben ser considerados."
   ]
  },
  {
   "cell_type": "code",
   "execution_count": null,
   "id": "8f512822",
   "metadata": {},
   "outputs": [
    {
     "name": "stdout",
     "output_type": "stream",
     "text": [
      "{'H': 1, 'o': 3, 'l': 3, 'a': 3, ',': 1, 'm': 2, 'e': 1, 'P': 1, 'c': 1}\n"
     ]
    }
   ],
   "source": [
    "def obtain_letters_frequency(string):\n",
    "    \"\"\"Función que recibe un string y devuelve un diccionario con la frecuencia de cada caracter (omitiendo los espacios)\n",
    "\n",
    "    Args:\n",
    "        string (str): Cualquier cadena de texto\n",
    "\n",
    "    Returns:\n",
    "        frequencies (dict): En cada par, la clave es el caracter y el valor es la frecuencia del mismo dentro del string\n",
    "    \"\"\"\n",
    "    frequencies = {}\n",
    "    for i in range(len(string)):\n",
    "        frequencies_keys = frequencies.keys()\n",
    "        if string[i] == \" \":\n",
    "            continue        \n",
    "        if string[i] in frequencies_keys:\n",
    "            frequencies[string[i]] += 1\n",
    "        else:\n",
    "            frequencies[string[i]] = 1\n",
    "    return frequencies\n",
    "\n",
    "print(obtain_letters_frequency(\"Hola, me llamo Paco\"))"
   ]
  },
  {
   "cell_type": "markdown",
   "id": "4e68d848",
   "metadata": {},
   "source": [
    "1. He declarado un diccionario vacío.\n",
    "2. Posteriormente, he creado un bucle que recorre el string caracter por caracter (usando la función range):\n",
    "    - En cada iteración, se genera la variable de claves del diccionario, lo que permite comprobar a continuación si ese caracter ya está incluido en el diccionario (en cuyo caso se suma 1 a su frecuencia) o si no lo está (se crea con el valor 1). \n",
    "    - Además, como primera condición, he establecido que si el caracter es un espacio, directamente se pasa a la siguiente iteración mediante la palabra clave continue, ya que los espacios no nos interesan en este caso. \n",
    "    - Por otro lado, en la segunda condición he utilizado la palabra clave \"in\", que funciona como el método .includes de JavaScript, es decir, analiza si en el objeto está contenido un elemento. Esto no sé si salía en el temario, pero he tenido que buscarlo.\n",
    "3. Al final de todo, la función devuelve el diccionario creado."
   ]
  },
  {
   "cell_type": "code",
   "execution_count": null,
   "id": "4202ca16",
   "metadata": {},
   "outputs": [
    {
     "name": "stdout",
     "output_type": "stream",
     "text": [
      "{'a': 3, 'c': 1, 'e': 1, 'h': 1, 'l': 3, 'm': 2, 'o': 3, 'p': 1}\n"
     ]
    }
   ],
   "source": [
    "def obtain_letters_frequency2(string):\n",
    "    \"\"\"Función que recibe un string y devuelve un diccionario con la frecuencia de cada caracter (omitiendo los espacios)\n",
    "\n",
    "    Args:\n",
    "        string (str): Cualquier cadena de texto\n",
    "\n",
    "    Returns:\n",
    "        frequencies_ordered (dict): En cada par, la clave es el caracter y el valor es la frecuencia del mismo dentro del string. Además, este diccionario está ordenado por orden alfabético en sus claves.\n",
    "    \"\"\"\n",
    "    frequencies = {}\n",
    "    string_en_minusculas = string.lower()\n",
    "    frequencies_keys = frequencies.keys()\n",
    "    for char in string_en_minusculas:\n",
    "        if char < \"a\" or char > \"z\":\n",
    "            continue        \n",
    "        if char in frequencies_keys:\n",
    "            frequencies[char] += 1\n",
    "        else:\n",
    "            frequencies[char] = 1\n",
    "    frequencies_ordered = dict(sorted(frequencies.items()))\n",
    "    return frequencies_ordered\n",
    "\n",
    "print(obtain_letters_frequency2(\"Hola, me llamo Paco\"))"
   ]
  },
  {
   "cell_type": "markdown",
   "id": "754b54d9",
   "metadata": {},
   "source": [
    "Cambios hechos:\n",
    "\n",
    "1. Aplicar el bucle directamente sobre el string (en un principio no sabía que se podía recorrer strings con la estructura de bucles de Python, pensaba que sólo funcionaba con estructuras de datos como listas, tuplas, diccionarios y sets)\n",
    "2. Crear la lista de claves del diccionario fuera del bucle hace que no se tenga que crear en cada iteración y funcione de la misma manera igualmente\n",
    "3. Transformar el string en minúsculas para que no influya la mayúscula o la minúscula a la hora de contar la frecuencia de una letra\n",
    "4. Atacar a cualquier caracter que no sea una letra (ya que en el enunciado se habla específicamente de letras). Esto lo hago haciendo que pase a la siguiente iteración sin hacer nada en caso de que el caracter sea \"menor\" que a y \"mayor\" que z (respecto a los rangos de ASCII)\n",
    "5. Ordenar por orden alfabético las claves del diccionario de frecuencias, ordenando mediante el método sorted los pares de ítems del mismo, lo cual genera una lista de tuplas en la que cada tupla es un par clave-valor, y transformando esa lista en un diccionario posteriormente.\n"
   ]
  },
  {
   "cell_type": "markdown",
   "id": "60dbf764",
   "metadata": {},
   "source": [
    "Ejercicio 2 - Dada una lista de números, obtén una nueva lista con el doble de cada valor. Usa la función map()."
   ]
  },
  {
   "cell_type": "code",
   "execution_count": 7,
   "id": "9ea2b3f9",
   "metadata": {},
   "outputs": [
    {
     "name": "stdout",
     "output_type": "stream",
     "text": [
      "[4, 10, 12, 18, 20, 30, 48, 56, 70, 78]\n"
     ]
    }
   ],
   "source": [
    "numbers_list = [2, 5, 6, 9, 10, 15, 24, 28, 35, 39]\n",
    "\n",
    "double_numbers = list(map(lambda x: x*2, numbers_list))\n",
    "\n",
    "print(double_numbers)"
   ]
  },
  {
   "cell_type": "markdown",
   "id": "41ff1721",
   "metadata": {},
   "source": [
    "1. He creado la función map utilizando una función lambda (las acabo de trabajar en la teoría) e incluyendo la lista de números\n",
    "2. He transformado el retorno en una lista"
   ]
  },
  {
   "cell_type": "code",
   "execution_count": 8,
   "id": "a20615e9",
   "metadata": {},
   "outputs": [
    {
     "name": "stdout",
     "output_type": "stream",
     "text": [
      "[4, 10, 12, 18, 20, 30, 48, 56, 70, 78]\n"
     ]
    }
   ],
   "source": [
    "double_numbers2 = [elemento * 2 for elemento in numbers_list]\n",
    "\n",
    "print(double_numbers2)"
   ]
  },
  {
   "cell_type": "markdown",
   "id": "e34596ca",
   "metadata": {},
   "source": [
    "Alternativa con la list comprehension en lugar de la función map"
   ]
  },
  {
   "cell_type": "markdown",
   "id": "6fc25bb3",
   "metadata": {},
   "source": [
    "Ejercicio 3 - Escribe una función que tome una lista de palabras y una palabra objetivo como parámetros. La función debe devolver una lista con todas las palabras de la lista original que contengan la palabra objetivo."
   ]
  },
  {
   "cell_type": "code",
   "execution_count": 4,
   "id": "4cdc8bb7",
   "metadata": {},
   "outputs": [
    {
     "name": "stdout",
     "output_type": "stream",
     "text": [
      "['automóvil', 'autopista', 'autonomía']\n",
      "['televisión', 'telepatía']\n",
      "['automóvil', 'avión', 'avioneta', 'aviso', 'televisión', 'lluvia']\n"
     ]
    }
   ],
   "source": [
    "words = [\"camino\", \"caminante\", \"camiseta\", \"cámara\", \"bicicleta\", \"automóvil\", \"autopista\", \"autonomía\", \"computadora\", \"composición\", \"avión\", \"avioneta\", \"aviso\", \"televisión\", \"telepatía\", \"lluvia\", \"llavero\", \"llanura\", \"playa\", \"plátano\"]\n",
    "\n",
    "words_with_auto = list(filter(lambda x: \"auto\" in x, words))\n",
    "words_with_tele = list(filter(lambda x: \"tele\" in x, words))\n",
    "words_with_vi = list(filter(lambda x: \"vi\" in x, words))\n",
    "\n",
    "print(words_with_auto)\n",
    "print(words_with_tele)\n",
    "print(words_with_vi)"
   ]
  },
  {
   "cell_type": "markdown",
   "id": "8178955d",
   "metadata": {},
   "source": [
    "1. He usado el método filter, incluyendo una función lambda en la que aplico la palabra clave \"in\" para analizar si el fragmento elegido está incluido en cada palabra de la lista.\n",
    "2. Después, he transformado el objeto devuelto en una lista.\n",
    "\n",
    "Lo he hecho con varios fragmentos"
   ]
  },
  {
   "cell_type": "code",
   "execution_count": 5,
   "id": "3e4cc5f9",
   "metadata": {},
   "outputs": [
    {
     "name": "stdout",
     "output_type": "stream",
     "text": [
      "['automóvil', 'autopista', 'autonomía']\n"
     ]
    }
   ],
   "source": [
    "words_with_auto2 = [elemento for elemento in words if \"auto\" in elemento]\n",
    "\n",
    "print(words_with_auto2)"
   ]
  },
  {
   "cell_type": "markdown",
   "id": "df88359f",
   "metadata": {},
   "source": [
    "Alternativa con list comprehension en lugar de la función filter"
   ]
  },
  {
   "cell_type": "code",
   "execution_count": 8,
   "id": "af65c9bb",
   "metadata": {},
   "outputs": [
    {
     "name": "stdout",
     "output_type": "stream",
     "text": [
      "['automóvil', 'autopista', 'autonomía']\n",
      "['televisión', 'telepatía']\n",
      "['automóvil', 'avión', 'avioneta', 'aviso', 'televisión', 'lluvia']\n"
     ]
    }
   ],
   "source": [
    "def filter_words(word, words_list):\n",
    "    \"\"\"Función que recibe una palabra o fragmento y una lista y filtra la lista, manteniendo sólo las palabra que incluyen el fragmento recibido como argumento\n",
    "\n",
    "    Args:\n",
    "        word (string): Fragmento que servirá como filtro\n",
    "        words_list (list): Lista de palabras que se filtrará\n",
    "\n",
    "    Returns:\n",
    "        list: Lista filtrada\n",
    "    \"\"\"\n",
    "    words_list_filtered = list(filter(lambda x: word in x, words_list))\n",
    "    return words_list_filtered\n",
    "\n",
    "print(filter_words(\"auto\", words))\n",
    "print(filter_words(\"tele\", words))\n",
    "print(filter_words(\"vi\", words))"
   ]
  },
  {
   "cell_type": "markdown",
   "id": "4034108e",
   "metadata": {},
   "source": [
    "Por último, he generado la función para aplicarla siempre que se quiera, la cual requiere como parámetros la palabra o fragmento y la lista objetivo"
   ]
  },
  {
   "cell_type": "markdown",
   "id": "a86e5515",
   "metadata": {},
   "source": [
    "Ejercicio 4 - Genera una función que calcule la diferencia entre los valores de dos listas. Usa la función map()."
   ]
  },
  {
   "cell_type": "code",
   "execution_count": 15,
   "id": "708ebd45",
   "metadata": {},
   "outputs": [
    {
     "name": "stdout",
     "output_type": "stream",
     "text": [
      "[2, 3, 8]\n",
      "[0, -1, 7]\n"
     ]
    }
   ],
   "source": [
    "def calculate_subtraction(first_list, second_list):\n",
    "    \"\"\"Función que recibe dos listas y resta los elementos de la segunda a los de la primera, emparejados por su índice\n",
    "    Args:\n",
    "        first_list (list): Lista de números enteros o decimales\n",
    "        second_list (list): Lista de números enteros o decimales\n",
    "\n",
    "    Returns:\n",
    "        list: Lista de diferencias\n",
    "    \"\"\"\n",
    "    subtraction = list(map(lambda pair: pair[0]-pair[1], zip(first_list, second_list)))\n",
    "    return subtraction\n",
    "\n",
    "print(calculate_subtraction([4, 6, 12], [2, 3, 4]))\n",
    "print(calculate_subtraction([5, 3, 2], [5, 4, -5]))"
   ]
  },
  {
   "cell_type": "markdown",
   "id": "c729ac72",
   "metadata": {},
   "source": [
    "En esta función hay tres niveles. Los analizo desde dentro hasta fuera:\n",
    "\n",
    "1. He usado la función zip() para generar una lista de tuplas que emparejase a los elementos de la primera y la segunda lista según su índice.\n",
    "2. He aplicado la función map() con una función lambda que devuelve el resultado de restar el elemento de la primera lista menos el elemento de la segunda (que son el primer y el segundo elemento de la tupla respectivamente), esto a lo largo de todos los índices de ambas listas (siendo cada índice una tupla).\n",
    "3. He transformado el objeto resultante de la función map() en una lista a través de la palabra clave list() y lo he guardado todo en la variable substraction, que es la que se devuelve al final de la función"
   ]
  },
  {
   "cell_type": "code",
   "execution_count": 22,
   "id": "44a01b02",
   "metadata": {},
   "outputs": [
    {
     "name": "stdout",
     "output_type": "stream",
     "text": [
      "[2, 3, 8]\n",
      "[0, -1, 7]\n"
     ]
    }
   ],
   "source": [
    "def calculate_subtraction2(first_list, second_list):\n",
    "    \"\"\"Función que recibe dos listas y resta los elementos de la segunda a los de la primera, emparejados por su índice\n",
    "    Args:\n",
    "        first_list (list): Lista de números enteros o decimales\n",
    "        second_list (list): Lista de números enteros o decimales\n",
    "\n",
    "    Returns:\n",
    "        list: Lista de diferencias\n",
    "    \"\"\"\n",
    "    subtraction = list(map(lambda x, y: x - y, first_list, second_list))\n",
    "    return subtraction\n",
    "\n",
    "print(calculate_subtraction2([4, 6, 12], [2, 3, 4]))\n",
    "print(calculate_subtraction2([5, 3, 2], [5, 4, -5]))"
   ]
  },
  {
   "cell_type": "markdown",
   "id": "4d559f2b",
   "metadata": {},
   "source": [
    "Alternativa sin usar la función zip(), incluyendo las dos listas como argumentos directamente en la función map() (no sabía que esto se podía hacer), y creando una variable para cada lista en la función lambda()"
   ]
  },
  {
   "cell_type": "code",
   "execution_count": 16,
   "id": "cf19a58d",
   "metadata": {},
   "outputs": [
    {
     "name": "stdout",
     "output_type": "stream",
     "text": [
      "[2, 3, 8]\n",
      "[0, -1, 7]\n"
     ]
    }
   ],
   "source": [
    "def calculate_subtraction3(first_list, second_list):\n",
    "    \"\"\"Función que recibe dos listas y resta los elementos de la segunda a los de la primera, emparejados por su índice\n",
    "    Args:\n",
    "        first_list (list): Lista de números enteros o decimales\n",
    "        second_list (list): Lista de números enteros o decimales\n",
    "\n",
    "    Returns:\n",
    "        list: Lista de diferencias\n",
    "    \"\"\"\n",
    "    subtraction = [x - y for x, y in zip(first_list, second_list)]\n",
    "    return subtraction\n",
    "\n",
    "print(calculate_subtraction3([4, 6, 12], [2, 3, 4]))\n",
    "print(calculate_subtraction3([5, 3, 2], [5, 4, -5]))"
   ]
  },
  {
   "cell_type": "markdown",
   "id": "91695316",
   "metadata": {},
   "source": [
    "Alternativa sin usar la función map() (no es lo que pide el enunciado pero por rizar el rizo algo más), generando una list comprehension y utilizando en ella la función zip como en la primera resolución, para crear una lista de tuplas que incluyen las parejas de elementos según su índice."
   ]
  },
  {
   "cell_type": "markdown",
   "id": "60f8e4fc",
   "metadata": {},
   "source": [
    "Ejercicio 5 - Escribe una función que tome una lista de números como parámetro y un valor opcional nota_aprobado (por defecto 5). La función debe calcular la media de los números en la lista y determinar si la media es mayor o igual que nota_aprobado. Si es así, el estado será \"aprobado\"; de lo contrario, \"suspenso\". La función debe devolver una tupla que contenga la media y el estado."
   ]
  },
  {
   "cell_type": "code",
   "execution_count": 15,
   "id": "84c365ac",
   "metadata": {},
   "outputs": [
    {
     "name": "stdout",
     "output_type": "stream",
     "text": [
      "(6.375, 'aprobado')\n"
     ]
    }
   ],
   "source": [
    "def determine_passed(exams, nota_aprobado = 5):\n",
    "    \"\"\"Función que recibe una lista de números, calcula su media y comprueba si está por encima del valor por defecto nota_aprobado. Después, devuelve una tupla con la media y el estado (aprobado si es por encima o igual que 5 o suspenso si está por debajo)\n",
    "\n",
    "    Args:\n",
    "        exams (list): lista de notas a las que se les aplicará la media\n",
    "        nota_aprobado (int): Nota límite para determinar el aprobado o el suspenso. Por defecto es 5.\n",
    "\n",
    "    Returns:\n",
    "        tuple: Tupla que agrupa la media y el estado (aprobado o suspenso)\n",
    "    \"\"\"\n",
    "    total = 0\n",
    "    for exam in exams:\n",
    "        total += exam\n",
    "    avg = total / len(exams)\n",
    "    if avg >= nota_aprobado:\n",
    "        state = \"aprobado\"\n",
    "    else:\n",
    "        state = \"suspenso\"\n",
    "    result = (avg, state)\n",
    "    return result\n",
    "    \n",
    "\n",
    "print(determine_passed([2, 7, 8, 6, 4, 9, 5, 10]))\n",
    "        "
   ]
  },
  {
   "cell_type": "markdown",
   "id": "31ff32d4",
   "metadata": {},
   "source": [
    "Para resolver el ejercicio, he seguido los siguientes pasos:\n",
    "\n",
    "1. Para empezar, he calculado la suma total de todas las notas que incluya la lista. Para ello, he hecho un bucle for y he utilizado el operador de asignación combinada de la suma.\n",
    "2. Después, he calculado la media de las notas, aprovechando el total anterior y usando el método len() para saber la cantidad de elementos\n",
    "3. He utilizado el condicional if else para reflejar el estado de la media (aprobada o suspensa), en relación a la variable por defecto nota_aprobado (definida al principio de la función gracias al igual)\n",
    "4. Por último, he creado la tupla result que incluía las variables avg y state, definidas anteriormente, y la he asignado como retorno de la función"
   ]
  },
  {
   "cell_type": "code",
   "execution_count": 18,
   "id": "7b981261",
   "metadata": {},
   "outputs": [
    {
     "name": "stdout",
     "output_type": "stream",
     "text": [
      "(6.38, 'aprobado')\n"
     ]
    }
   ],
   "source": [
    "def determine_passed2(exams, nota_aprobado = 5):\n",
    "    \"\"\"Función que recibe una lista de números, calcula su media y comprueba si está por encima del valor por defecto nota_aprobado. Después, devuelve una tupla con la media y el estado (aprobado si es por encima o igual que 5 o suspenso si está por debajo)\n",
    "\n",
    "    Args:\n",
    "        exams (list): lista de notas a las que se les aplicará la media\n",
    "        nota_aprobado (int): Nota límite para determinar el aprobado o el suspenso. Por defecto es 5.\n",
    "\n",
    "    Returns:\n",
    "        tuple: Tupla que agrupa la media y el estado (aprobado o suspenso)\n",
    "    \"\"\"\n",
    "    total = sum(exams)\n",
    "    avg = total / len(exams)\n",
    "    state = \"aprobado\" if avg >= nota_aprobado else \"suspenso\"\n",
    "    result = (round(avg, 2), state)\n",
    "    return result\n",
    "    \n",
    "\n",
    "print(determine_passed2([2, 7, 8, 6, 4, 9, 5, 10]))"
   ]
  },
  {
   "cell_type": "markdown",
   "id": "b68e665a",
   "metadata": {},
   "source": [
    "Alternativa aplicando varias estrategias para simplificar el código:\n",
    "1. La función sum() para sumar directamente los elementos de una lista en lugar de pasar por el bucle for\n",
    "2. Un ternario en el estado para reducir el condicional if else que determina si la media está aprobada o suspensa.\n",
    "\n",
    "Además, he redondeado la media a dos decimales (mediante el método round()) después de compararla, para que no influya en el estado pero sí se muestren pocos decimales en la tupla final."
   ]
  },
  {
   "cell_type": "code",
   "execution_count": null,
   "id": "891db211",
   "metadata": {},
   "outputs": [
    {
     "name": "stdout",
     "output_type": "stream",
     "text": [
      "(6.38, 'aprobado')\n",
      "La lista de notas está vacía\n",
      "None\n"
     ]
    }
   ],
   "source": [
    "def determine_passed3(exams, nota_aprobado = 5):\n",
    "    \"\"\"Función que recibe una lista de números, calcula su media y comprueba si está por encima del valor por defecto nota_aprobado. Después, devuelve una tupla con la media y el estado (aprobado si es por encima o igual que 5 o suspenso si está por debajo)\n",
    "\n",
    "    Args:\n",
    "        exams (list): lista de notas a las que se les aplicará la media\n",
    "        nota_aprobado (int): Nota límite para determinar el aprobado o el suspenso. Por defecto es 5.\n",
    "\n",
    "    Returns:\n",
    "        tuple: Tupla que agrupa la media y el estado (aprobado o suspenso)\n",
    "    \"\"\"\n",
    "    try:\n",
    "        total = sum(exams)\n",
    "        avg = total / len(exams)\n",
    "    except ZeroDivisionError:\n",
    "        print(f\"La lista de notas está vacía\")\n",
    "    else:\n",
    "        state = \"aprobado\" if avg >= nota_aprobado else \"suspenso\"\n",
    "        result = (round(avg, 2), state)\n",
    "        return result\n",
    "\n",
    "print(determine_passed3([2, 7, 8, 6, 4, 9, 5, 10]))\n",
    "print(determine_passed3([]))"
   ]
  },
  {
   "cell_type": "markdown",
   "id": "bb86739d",
   "metadata": {},
   "source": [
    "Para rizar un poco más el rizo, he generado una estructura de manejo de errores con try, except y else para prevenir aquellos casos en los que la lista está vacía, lo cual quedaría plasmado en un ZeroDivisionError"
   ]
  },
  {
   "cell_type": "markdown",
   "id": "92ca79d4",
   "metadata": {},
   "source": [
    "Ejercicio 6 - Escribe una función que calcule el factorial de un número de manera recursiva."
   ]
  },
  {
   "cell_type": "code",
   "execution_count": 15,
   "id": "8b1a0cf7",
   "metadata": {},
   "outputs": [
    {
     "name": "stdout",
     "output_type": "stream",
     "text": [
      "120\n"
     ]
    }
   ],
   "source": [
    "def calculate_factorial(number):\n",
    "    \"\"\"Función que recibe un número entero y devuelve el factorial de dicho número\n",
    "\n",
    "    Args:\n",
    "        number (int): número entero al que se le calculará el factorial\n",
    "\n",
    "    Returns:\n",
    "        int: factorial del número recibido\n",
    "    \"\"\"\n",
    "    anterior = number - 1\n",
    "    if number > 0:\n",
    "        return number * calculate_factorial(anterior)\n",
    "    else:\n",
    "        return 1\n",
    "    \n",
    "print(calculate_factorial(5))"
   ]
  },
  {
   "cell_type": "markdown",
   "id": "ed7ec882",
   "metadata": {},
   "source": [
    "Este ejercicio me ha costado de manera recursiva, he tenido que pedirle una pista al ChatGPT. Aun así, en la última resolución lo dejo como se me ocurrió nada más leerlo (sin función recursiva en ese caso). Aquí la explicación:\n",
    "1. En primer lugar, he generado el número anterior (que nos servirá para provocar el bucle)\n",
    "2. Después, he añadido un condicional que multiplica el número por esta misma función con el número anterior (recursividad)\n",
    "3. Además, en el else (cuando se llega a 0), se devuelve un 1 para no generar un error en la multiplicación (aquí es donde estaba atrancado porque estaba recibiendo un error constantemente y no sabía de dónde salía)\n",
    "\n",
    "En definitiva el proceso que sigue el programa es el siguiente:\n",
    "Vuelta 1: 5 x (4!)\n",
    "Vuelta 2: 5 x (4 x (3!))\n",
    "Vuelta 3: 5 x (4 x (3 x (2!)))\n",
    "Vuelta 4: 5 x (4 x (3 x (2 x (1!))))\n",
    "Vuelta 5: 5 x (4 x (3 x (2 x (1)))) que, en definitiva, es 5 x 4 x 3 x 2 x 1 = 120\n"
   ]
  },
  {
   "cell_type": "code",
   "execution_count": 18,
   "id": "ddf970a2",
   "metadata": {},
   "outputs": [
    {
     "name": "stdout",
     "output_type": "stream",
     "text": [
      "120\n"
     ]
    }
   ],
   "source": [
    "def calculate_factorial_one_line(number):\n",
    "    \"\"\"Función que recibe un número entero y devuelve el factorial de dicho número\n",
    "\n",
    "    Args:\n",
    "        number (int): número entero al que se le calculará el factorial\n",
    "\n",
    "    Returns:\n",
    "        int: factorial del número recibido\n",
    "    \"\"\"\n",
    "    return number * calculate_factorial(number - 1) if number > 0 else 1\n",
    "\n",
    "print(calculate_factorial_one_line(5))\n"
   ]
  },
  {
   "cell_type": "markdown",
   "id": "8684e7ec",
   "metadata": {},
   "source": [
    "Alternativa recursiva en una sola línea con un ternario"
   ]
  },
  {
   "cell_type": "code",
   "execution_count": 19,
   "id": "47ddc294",
   "metadata": {},
   "outputs": [
    {
     "name": "stdout",
     "output_type": "stream",
     "text": [
      "120\n",
      "479001600\n"
     ]
    }
   ],
   "source": [
    "def calculate_factorial2(number):\n",
    "    \"\"\"Función que recibe un número entero y devuelve el factorial de dicho número\n",
    "\n",
    "    Args:\n",
    "        number (int): número entero al que se le calculará el factorial\n",
    "\n",
    "    Returns:\n",
    "        int: factorial del número recibido\n",
    "    \"\"\"\n",
    "    factorial = 1\n",
    "    for i in range(number):\n",
    "        factorial *= i + 1\n",
    "    return factorial\n",
    "\n",
    "print(calculate_factorial2(5))\n",
    "print(calculate_factorial2(12))"
   ]
  },
  {
   "cell_type": "markdown",
   "id": "64b39d66",
   "metadata": {},
   "source": [
    "Esta no es una función recursiva pero fue la primera que se me ocurrió al momento de leer el enunciado y quería incluirla. Lo he conseguido mediante la función range() y el operador de asignación combinado de la multiplicación."
   ]
  },
  {
   "cell_type": "markdown",
   "id": "82e95223",
   "metadata": {},
   "source": [
    "Ejercicio 7 - Genera una función que convierta una lista de tuplas a una lista de strings. Usa la función map()."
   ]
  },
  {
   "cell_type": "code",
   "execution_count": 28,
   "id": "22616c73",
   "metadata": {},
   "outputs": [
    {
     "name": "stdout",
     "output_type": "stream",
     "text": [
      "['Coche rojo', 'Gato negro', 'Córdoba, España', 'Ordenador portátil', 'Fernando Alonso']\n"
     ]
    }
   ],
   "source": [
    "def transform_tuples_into_strings(tuples_list):\n",
    "    \"\"\"Función que recibe una lista de tuplas y devuelve una lista de strings (uniendo dichas tuplas)\n",
    "\n",
    "    Args:\n",
    "        tuples_list (list): Lista cuyos elementos son tuplas\n",
    "\n",
    "    Returns:\n",
    "        list: Lista con las tuplas transformadas en strings\n",
    "    \"\"\"\n",
    "    string_list = list(map(lambda x: f\"{x[0]} {x[1]}\", tuples_list))\n",
    "    return string_list\n",
    "\n",
    "pairs = [\n",
    "    (\"Coche\", \"rojo\"),\n",
    "    (\"Gato\", \"negro\"),\n",
    "    (\"Córdoba,\", \"España\"),\n",
    "    (\"Ordenador\", \"portátil\"),\n",
    "    (\"Fernando\", \"Alonso\")\n",
    "]\n",
    "\n",
    "print(transform_tuples_into_strings(pairs))"
   ]
  },
  {
   "cell_type": "markdown",
   "id": "45ab72fd",
   "metadata": {},
   "source": [
    "Esta es la primera solución que se me ocurre, aunque sólo sería viable si todas las tuplas tienen exactamente dos elementos.\n",
    "1. He usado la función map() con una función lambda en su interior que unía el primer elemento de la tupla con el segundo en un string.\n",
    "2. He transformado el objeto resultante en una lista y la he retornado"
   ]
  },
  {
   "cell_type": "code",
   "execution_count": 34,
   "id": "536421af",
   "metadata": {},
   "outputs": [
    {
     "name": "stdout",
     "output_type": "stream",
     "text": [
      "['Paco Canovaca Cárdenas', 'Coche Rojo', 'Python es mi lenguaje favorito', 'Fernando Alonso es piloto', 'Córdoba, Andalucía, España']\n"
     ]
    }
   ],
   "source": [
    "def transform_tuples_into_strings2(tuples_list):\n",
    "    \"\"\"Función que recibe una lista de tuplas y devuelve una lista de strings (uniendo dichas tuplas)\n",
    "\n",
    "    Args:\n",
    "        tuples_list (list): Lista cuyos elementos son tuplas\n",
    "\n",
    "    Returns:\n",
    "        list: Lista con las tuplas transformadas en strings\n",
    "    \"\"\"\n",
    "    string_list = list(map(lambda x: \" \".join(x), tuples_list))\n",
    "    return string_list\n",
    "\n",
    "mixed_tuples = [\n",
    "    (\"Paco\", \"Canovaca\", \"Cárdenas\"),\n",
    "    (\"Coche\", \"Rojo\"),\n",
    "    (\"Python\", \"es\", \"mi\", \"lenguaje\", \"favorito\"),\n",
    "    (\"Fernando\", \"Alonso\", \"es\", \"piloto\"),\n",
    "    (\"Córdoba,\", \"Andalucía,\", \"España\")\n",
    "]\n",
    "\n",
    "print(transform_tuples_into_strings2(mixed_tuples))"
   ]
  },
  {
   "cell_type": "markdown",
   "id": "8328599b",
   "metadata": {},
   "source": [
    "Revisando los apuntes para encontrar una estrategia aplicable a cualquier número de elementos por tupla he llegado al método .join(), que había olvidado completamente. Así es aún más sencilla mi función y además puedo usarla sin importar cuántos elementos haya en cada tupla de mi lista.\n",
    "\n",
    "El proceso es igual, sólo cambia en la función lambda el método join en lugar de unirlo yo manualmente."
   ]
  },
  {
   "cell_type": "markdown",
   "id": "01900e2e",
   "metadata": {},
   "source": [
    "Ejercicio 8 - Escribe un programa que pida al usuario dos números e intente dividirlos. Si el usuario ingresa un valor no numérico o intenta dividir por cero, maneja esas excepciones de manera adecuada y muestra un mensaje indicando si la división fue exitosa o no."
   ]
  },
  {
   "cell_type": "code",
   "execution_count": null,
   "id": "e889f889",
   "metadata": {},
   "outputs": [
    {
     "name": "stdout",
     "output_type": "stream",
     "text": [
      "¡División exitosa! El resultado es 5\n"
     ]
    }
   ],
   "source": [
    "def divide_two_numbers():\n",
    "    try:\n",
    "        num1 = float(input(\"Inserte el dividendo: \"))\n",
    "        num2 = float(input(\"Inserte el divisor: \"))\n",
    "        division = num1 / num2\n",
    "        division_rounded = round(division, 2)\n",
    "    except ValueError:\n",
    "        print(\"Ambos valores deben ser números enteros o decimales\")\n",
    "    except ZeroDivisionError:\n",
    "        print(\"El divisor debe ser distinto de 0\")\n",
    "    else:\n",
    "        print(f\"¡División exitosa! El resultado es {division_rounded:g}\")\n",
    "\n",
    "divide_two_numbers()"
   ]
  },
  {
   "cell_type": "markdown",
   "id": "6611d6b0",
   "metadata": {},
   "source": [
    "En este ejercicio, he utilizado la estructura de manejo de errores Try, Except (con dos tipos de error diferente) y Else:\n",
    "1. En primer lugar, en el try he incluido los inputs para el dividendo y el divisor, la división de los dos números y el pequeño detalle de redondear los decimales a 2 (usado en un ejercicio anterior)\n",
    "2. Después, he añadido la excepción de ValueError para los casos en que los valores añadidos en los inputs no sean números, lo cual no podría ser transformado a float.\n",
    "3. Luego, he incluido otra excepción de ZeroDivisionError para cuando el divisor sea un 0.\n",
    "4. Por último, si no se produce ningún error, el else incluye la impresión por consola del mensaje con el resultado de la división. Aquí he añadido otro pequeño detalle, esta vez nuevo y recién descubierto buscando en internet, que es el método :g, el cual hace que se eliminen los 0 innecesarios en los decimales. Es decir, si el resultado no tuviese ningún decimal o sólo uno, se mostraría únicamente ese decimal. Por ejemplo, en un resultado 5, se muestra así tal cual en lugar de 5.00"
   ]
  },
  {
   "cell_type": "markdown",
   "id": "407d8d5d",
   "metadata": {},
   "source": [
    "Ejercicio 9 - Escribe una función que tome una lista de nombres de mascotas como parámetro y devuelva una nueva lista excluyendo ciertas mascotas prohibidas en España. La lista de mascotas a excluir es [\"Mapache\", \"Tigre\", \"Serpiente Pitón\", \"Cocodrilo\", \"Oso\"]. Usa la función filter()."
   ]
  },
  {
   "cell_type": "code",
   "execution_count": null,
   "id": "02eed522",
   "metadata": {},
   "outputs": [
    {
     "name": "stdout",
     "output_type": "stream",
     "text": [
      "Las mascotas permitidas son: ['Perro', 'Gato', 'Hámster']\n"
     ]
    }
   ],
   "source": [
    "def filter_pets(pets):\n",
    "    \"\"\"Función que recibe una lista de animales y devuelve otra lista filtrada, habiendo eliminado de esos animales los que son prohibidos como mascotas en España\n",
    "\n",
    "    Args:\n",
    "        pets (list): Lista de animales que será filtrada\n",
    "\n",
    "    Returns:\n",
    "        list: List filtrada que contiene únicamente animales permitidos\n",
    "    \"\"\"\n",
    "    forbidden_pets = [\"Mapache\", \"Tigre\", \"Serpiente Pitón\", \"Cocodrilo\", \"Oso\"]\n",
    "    filtered_pets = list(filter(lambda x: x not in forbidden_pets, pets))\n",
    "    return filtered_pets\n",
    "\n",
    "pets_list = [\"Perro\", \"Gato\", \"Mapache\", \"Cocodrilo\", \"Hámster\", \"Oso\"]\n",
    "\n",
    "print(f\"Las mascotas permitidas son: {filter_pets(pets_list)}\")"
   ]
  },
  {
   "cell_type": "markdown",
   "id": "85bc10aa",
   "metadata": {},
   "source": [
    "La función que propongo como solución se divide en varias partes:\n",
    "1. En primer lugar, he declarado la lista de mascotas prohibidas, que será recorrida para filtrar la lista que queramos\n",
    "2. Después, aplicamos sobre la lista la función filter(), con una función lambda que sólo mantiene a las mascotas que no estén (palabras reservadas not e in) en la lista de mascotas prohibidas\n",
    "3. El objeto resultante es transformado directamente a lista mediante la función list() y nuestra función principal devuelve dicha lista (en este caso llamada filtered_pets)"
   ]
  },
  {
   "cell_type": "code",
   "execution_count": null,
   "id": "a497d021",
   "metadata": {},
   "outputs": [
    {
     "name": "stdout",
     "output_type": "stream",
     "text": [
      "Las mascotas permitidas son: ['Perro', 'Gato', 'Hámster']\n"
     ]
    }
   ],
   "source": [
    "def filter_pets2(pets):\n",
    "    \"\"\"Función que recibe una lista de animales y devuelve otra lista filtrada, habiendo eliminado de esos animales los que son prohibidos como mascotas en España\n",
    "\n",
    "    Args:\n",
    "        pets (list): Lista de animales que será filtrada\n",
    "\n",
    "    Returns:\n",
    "        list: List filtrada que contiene únicamente animales permitidos\n",
    "    \"\"\"\n",
    "    forbidden_pets = [\"Mapache\", \"Tigre\", \"Serpiente Pitón\", \"Cocodrilo\", \"Oso\"]\n",
    "    filtered_pets = [pet for pet in pets if pet not in forbidden_pets]\n",
    "    return filtered_pets\n",
    "\n",
    "pets_list = [\"Perro\", \"Gato\", \"Mapache\", \"Cocodrilo\", \"Hámster\", \"Oso\"]\n",
    "\n",
    "print(f\"Las mascotas permitidas son: {filter_pets2(pets_list)}\")"
   ]
  },
  {
   "cell_type": "markdown",
   "id": "b3cd449f",
   "metadata": {},
   "source": [
    "Solución alternativa que, aunque no utiliza la función filter() como indica el enunciado, resuelve el reto, en este caso mediante una list comprehension."
   ]
  },
  {
   "cell_type": "markdown",
   "id": "4f9a68ae",
   "metadata": {},
   "source": [
    "Ejercicio 10 - Escribe una función que reciba una lista de números y calcule su promedio. Si la lista está vacía, lanza una excepción personalizada y maneja el error adecuadamente."
   ]
  },
  {
   "cell_type": "code",
   "execution_count": null,
   "id": "b19b3f44",
   "metadata": {},
   "outputs": [
    {
     "name": "stdout",
     "output_type": "stream",
     "text": [
      "7.666666666666667\n",
      "La lista de números no contiene ningún elemento\n"
     ]
    }
   ],
   "source": [
    "def avg(numbers_list):\n",
    "    \"\"\"Función que recibe una lista de números y calcula su media, devolviéndola. Contiene una estructura de manejo de errores que permite detectar cuando la lista está vacía y devolver, en lugar de la media, un mensaje alternativo indicando este problema.\n",
    "\n",
    "    Args:\n",
    "        numbers_list (list): Lista de números sobre la que se calcula la media.\n",
    "\n",
    "    Returns:\n",
    "        float | str: Media de los números de la lista o mensaje de error por lista vacía\n",
    "    \"\"\"\n",
    "    try:\n",
    "        total = sum(numbers_list)\n",
    "        avg = total / len(numbers_list)\n",
    "    except ZeroDivisionError:\n",
    "        return \"La lista de números no contiene ningún elemento\"\n",
    "    else:\n",
    "        return avg\n",
    "    \n",
    "numbers = [2, 6, 4, 8, 3, 6, 10, 4, 26]\n",
    "numbers_empty = []\n",
    "\n",
    "print(avg(numbers))\n",
    "print(avg(numbers_empty))"
   ]
  },
  {
   "cell_type": "markdown",
   "id": "0517a546",
   "metadata": {},
   "source": [
    "Curiosamente lo hice en la última alternativa del ejercicio 5, por lo que simplemente he seguido la misma estructura:\n",
    "1. En primer lugar, el código que hay que intentar indentado en un try.\n",
    "2. Después, la excepción en caso de que el divisor de la media (la longitud de la lista), sea 0, ante lo cual se lanzaría un mensaje que indicase que no hay elementos en la lista aportada.\n",
    "3. Por último, el código dentro del else, el cual se ejecutará en caso de no encontrar ningún error (devolverá la media calculada)."
   ]
  },
  {
   "cell_type": "code",
   "execution_count": null,
   "id": "538f9c0b",
   "metadata": {},
   "outputs": [
    {
     "name": "stdout",
     "output_type": "stream",
     "text": [
      "7.666666666666667\n",
      "Error: La lista de números no contiene ningún elemento\n"
     ]
    }
   ],
   "source": [
    "class EmptyListError(Exception):\n",
    "    pass\n",
    "\n",
    "def avg2(numbers_list):\n",
    "    \"\"\"Función que recibe una lista de números y calcula su media, devolviéndola. Contiene una estructura de manejo de errores que permite detectar cuando la lista está vacía y devolver, en lugar de la media, un mensaje alternativo indicando este problema.\n",
    "\n",
    "    Args:\n",
    "        numbers_list (list): Lista de números sobre la que se calcula la media.\n",
    "\n",
    "    Returns:\n",
    "        float | str: Media de los números de la lista o mensaje de error por lista vacía\n",
    "    \"\"\"\n",
    "    try:\n",
    "        if len(numbers_list) == 0:\n",
    "            raise EmptyListError(\"La lista de números no contiene ningún elemento\")\n",
    "        total = sum(numbers_list)\n",
    "        avg = total / len(numbers_list)\n",
    "    except EmptyListError as e:\n",
    "        return f\"Error: {e}\"\n",
    "    else:\n",
    "        return avg\n",
    "\n",
    "numbers = [2, 6, 4, 8, 3, 6, 10, 4, 26]\n",
    "numbers_empty = []\n",
    "\n",
    "print(avg2(numbers))\n",
    "print(avg2(numbers_empty))"
   ]
  },
  {
   "cell_type": "markdown",
   "id": "aa62ea9b",
   "metadata": {},
   "source": [
    "He estado buscando qué significa una excepción personalizada, y he llegado a esta vía, en la que se genera una clase heredada de Exception y se llama a esa clase (al error) cuando la longitud de la lista sea 0. Así, no se depende de una división en la que el divisor es 0, sino que se ataca directamente al suceso que nos va a generar el error (en este caso, la lista vacía).\n",
    "\n",
    "No sé si el ejercicio pedía esto o la solución a la que he llegado originalmente, porque en este caso sí he tenido que buscar de manera externa."
   ]
  },
  {
   "cell_type": "markdown",
   "id": "295b27c9",
   "metadata": {},
   "source": [
    "Ejercicio 11 - Escribe un programa que pida al usuario que introduzca su edad. Si el usuario ingresa un valor no numérico o un valor fuera del rango esperado (por ejemplo, menor que 0 o mayor que 120), maneja las excepciones adecuadamente."
   ]
  },
  {
   "cell_type": "code",
   "execution_count": null,
   "id": "17841d0a",
   "metadata": {},
   "outputs": [
    {
     "name": "stdout",
     "output_type": "stream",
     "text": [
      "18\n"
     ]
    }
   ],
   "source": [
    "class OutOfRangeError(Exception):\n",
    "    pass\n",
    "\n",
    "def check_age():\n",
    "    \"\"\"Función que solicita al usuario que introduzca su edad y devuelve ese valor. En caso de que el input sea algo distinto a un número entero o un número entero pero negativo o más alto que 120, el programa lanza un mensaje de error (diferente en cada caso)\n",
    "\n",
    "    Raises:\n",
    "        OutOfRangeError: error que se produce cuando la variable age es menor que 0 o mayor que 120\n",
    "\n",
    "    Returns:\n",
    "        int | str: Edad introducida o mensaje de error en caso necesario\n",
    "    \"\"\"\n",
    "    try:\n",
    "        age = int(input(\"Introduce tu edad: \"))\n",
    "        if age < 0 or age > 120:\n",
    "            raise OutOfRangeError(\"El valor introducido es negativo o demasiado alto\")\n",
    "    except ValueError:\n",
    "        return \"Error: El valor introducido no es un número entero\"\n",
    "    except OutOfRangeError as e:\n",
    "        return f\"Error: {e}\"\n",
    "    else:\n",
    "        return age\n",
    "    \n",
    "\n",
    "print(check_age())"
   ]
  },
  {
   "cell_type": "markdown",
   "id": "ee22b843",
   "metadata": {},
   "source": [
    "En este ejercicio he llevado a cabo una estructura de manejo de errores que combinaba una excepción por defecto y otra personalizado. \n",
    "- Para el error de valor no numérico, no he tenido que crear una excepción personalizada, ya que existe el ValueError cuando intento transformar a entero un valor que no es un número entero (el tipo de dato de un input es cadena de texto por defecto, por eso tengo que transformarlo). \n",
    "- Sin embargo, para evitar valores negativos o mayores a 120, he tenido que declarar una clase a partir de Exception, para generar una excepción personalizada que me permitiese controlar que el valor introducido estuviera en el rango entre 0 y 120\n",
    "La función devuelve la edad siempre que se cumplan las dos condiciones: el valor introducido es un número entero y está entre 0 y 120."
   ]
  },
  {
   "cell_type": "markdown",
   "id": "f0ca3950",
   "metadata": {},
   "source": [
    "Ejercicio 12 - Genera una función que, al recibir una frase, devuelva una lista con la longitud de cada palabra. Usa la función map()."
   ]
  },
  {
   "cell_type": "code",
   "execution_count": 20,
   "id": "48c3dd28",
   "metadata": {},
   "outputs": [
    {
     "name": "stdout",
     "output_type": "stream",
     "text": [
      "[2, 5, 2, 5, 3, 4]\n"
     ]
    }
   ],
   "source": [
    "def obtain_words_length(phrase):\n",
    "    \"\"\"Función que recibe una cadena de texto y devuelve la longitud de cada una de las palabras que la componen\n",
    "\n",
    "    Args:\n",
    "        phrase (str): Frase en forma de cadena de texto\n",
    "\n",
    "    Returns:\n",
    "        list: Lista de longitudes de las palabras de la cadena de texto recibida\n",
    "    \"\"\"\n",
    "    words = phrase.split(\" \")\n",
    "    words_length = list(map(lambda x: len(x), words))\n",
    "    return words_length\n",
    "\n",
    "print(obtain_words_length(\"Me gusta la pizza con piña\"))"
   ]
  },
  {
   "cell_type": "markdown",
   "id": "3b6842f3",
   "metadata": {},
   "source": [
    "Para este ejercicio, he aprovechado varias funciones bastante útiles:\n",
    "1. En primer lugar, separo las palabras de la frase recibida con el método .split(), que me permite introducir un caracter que va a separar fragmentos de la frase. En este caso, elijo el espacio, ya que es lo que diferencia una palabra de la siguiente.\n",
    "2. Después, uso la función map() con una función lambda que me permite quedarme con la longitud de cada palabra de la lista de palabras obtenida anteriormente.\n",
    "3. Esta función la transformo a lista y la devuelvo como resultado\n",
    "\n",
    "Antes de continuar, me he dado cuenta de que esta función daría resultados inadecuados en caso de que la frase contuviera signos de puntuación como un punto o una coma. Por tanto, a continuación quiero indagar cómo puedo manejar ese tipo de situaciones."
   ]
  },
  {
   "cell_type": "code",
   "execution_count": 22,
   "id": "557087e8",
   "metadata": {},
   "outputs": [
    {
     "name": "stdout",
     "output_type": "stream",
     "text": [
      "[4, 2, 5, 4, 3, 2, 7]\n"
     ]
    }
   ],
   "source": [
    "def obtain_words_length2(phrase):\n",
    "    \"\"\"Función que recibe una cadena de texto y devuelve la longitud de cada una de las palabras que la componen\n",
    "\n",
    "    Args:\n",
    "        phrase (str): Frase en forma de cadena de texto\n",
    "\n",
    "    Returns:\n",
    "        list: Lista de longitudes de las palabras de la cadena de texto recibida\n",
    "    \"\"\"\n",
    "    words = phrase.split(\" \")\n",
    "    no_punctuation_marks = list(map(lambda x: x.strip(\".,;:!?()-\"), words))\n",
    "    words_length = list(map(lambda x: len(x), no_punctuation_marks))\n",
    "    return words_length\n",
    "\n",
    "print(obtain_words_length2(\"Hola. Me llamo Paco, soy de Córdoba\"))"
   ]
  },
  {
   "cell_type": "markdown",
   "id": "fb3ef889",
   "metadata": {},
   "source": [
    "He tratado de abordar el problema de los signos de puntuación en esta alternativa. Después del paso en el que separo la cadena de texto en palabras, he introducido un paso intermedio en el que \"libero\" a esas palabras de los posibles signos de puntuación que pueden tener alrededor. Esto lo hago mediante el método .strip() de los strings. Lo conocía de los apuntes pero no sabía bien cómo aplicarlo, ahora sí lo he entendido."
   ]
  },
  {
   "cell_type": "markdown",
   "id": "e3676320",
   "metadata": {},
   "source": [
    "Ejercicio 13 - Genera una función que, para un conjunto de caracteres, devuelva una lista de tuplas con cada letra en mayúsculas y minúsculas. Las letras no pueden estar repetidas. Usa la función map()."
   ]
  },
  {
   "cell_type": "code",
   "execution_count": 6,
   "id": "b6e6c2a4",
   "metadata": {},
   "outputs": [
    {
     "name": "stdout",
     "output_type": "stream",
     "text": [
      "[('h', 'H'), ('g', 'G'), ('l', 'L'), ('u', 'U'), ('i', 'I'), ('f', 'F')]\n"
     ]
    }
   ],
   "source": [
    "def get_upper_and_lower(character_set):\n",
    "    \"\"\"Función que recibe un conjunto de caracteres y devuelve una lista de tuplas en la que cada tupla corresponde a un caracter del conjunto e incluye ese caracter en minúscula y en mayúscula.\n",
    "\n",
    "    Args:\n",
    "        character_set (set): Conjunto de caracteres\n",
    "\n",
    "    Returns:\n",
    "        list: Lista de tuplas con los caracteres en minúsculas y mayúsculas\n",
    "    \"\"\"\n",
    "    upper_and_lower = list(map(lambda x: (x.lower(), x.upper()), character_set))\n",
    "    return upper_and_lower\n",
    "\n",
    "print(get_upper_and_lower({\"u\", \"I\", \"g\", \"h\", \"l\", \"f\"}))"
   ]
  },
  {
   "cell_type": "markdown",
   "id": "fb0473d6",
   "metadata": {},
   "source": [
    "Pasos seguidos para resolver el ejercicio:\n",
    "1. Primero, he aprovechado la función map para generar la tupla de cada caracter, la cual incluye ese caracter en mayúscula y en minúscula.\n",
    "2. Después, he transformado el objeto resultante en una lista, ya que se pedía una lista de tuplas como resultado, y la he devuelto.\n",
    "\n",
    "En el enunciado se comentaba que no se podían repetir letras, pero ya de base al estar trabajando con conjuntos esto no es un problema, porque los elementos de un conjunto son únicos y no se pueden repetir."
   ]
  },
  {
   "cell_type": "code",
   "execution_count": 9,
   "id": "5e400828",
   "metadata": {},
   "outputs": [
    {
     "name": "stdout",
     "output_type": "stream",
     "text": [
      "[('f', 'F'), ('g', 'G'), ('h', 'H'), ('i', 'I'), ('l', 'L'), ('u', 'U')]\n"
     ]
    }
   ],
   "source": [
    "sorted_characters_list = sorted(get_upper_and_lower({\"u\", \"I\", \"g\", \"h\", \"l\", \"f\"}))\n",
    "\n",
    "print(sorted_characters_list)"
   ]
  },
  {
   "cell_type": "markdown",
   "id": "179a6355",
   "metadata": {},
   "source": [
    "Adicionalmente, si quisiéramos que las tuplas estuviesen ordenadas alfabéticamente, podríamos recurrir al método sorted(), que devuelve un iterable ordenado (en este caso, al ser en formato string, se ordena alfabéticamente. Si no me equivoco esto era gracias al código ASCII)"
   ]
  },
  {
   "cell_type": "markdown",
   "id": "6caa36ad",
   "metadata": {},
   "source": [
    "Ejercicio 14 - Crea una función que retorne las palabras de una lista que comiencen con una letra en específico. Usa la función filter()."
   ]
  },
  {
   "cell_type": "code",
   "execution_count": 11,
   "id": "ed0b84f2",
   "metadata": {},
   "outputs": [
    {
     "name": "stdout",
     "output_type": "stream",
     "text": [
      "['patata', 'Paco', 'pelota', 'pantalla', 'portátil', 'Pikachu']\n"
     ]
    }
   ],
   "source": [
    "def find_words_with_p(random_words_list):\n",
    "    \"\"\"Función que recibe una lista de palabras y devuelve otra lista en la que sólo permanecen aquellas que empiezan por la letra p (ya sea en mayúscula o minúscula)\n",
    "\n",
    "    Args:\n",
    "        random_words_list (list): Lista de palabras cualesquiera\n",
    "\n",
    "    Returns:\n",
    "        list: Lista filtrada con las palabras que empiezan por p\n",
    "    \"\"\"\n",
    "    words_with_p = list(filter(lambda x: x[0].lower() == \"p\", random_words_list))\n",
    "    return words_with_p\n",
    "\n",
    "words_list = [\"hola\", \"patata\", \"enunciado\", \"Córdoba\", \"Paco\", \"pelota\", \"ordenador\", \"pantalla\", \"portátil\", \"Pikachu\"]\n",
    "\n",
    "print(find_words_with_p(words_list))"
   ]
  },
  {
   "cell_type": "markdown",
   "id": "6dcab86a",
   "metadata": {},
   "source": [
    "Para resolver este ejercicio, he hecho lo siguiente:\n",
    "1. He usado la función filter, quedándome únicamente con las palabras cuyo primer caracter era una p (gracias a la indexación de strings, accediendo al elemento en el índice 0, es decir, el primero). Además, he añadido la transformación de dicho primer caracter en minúscula, para que no importe si esa palabra empieza en mayúscula o en minúscula.\n",
    "2. He transformado el objeto en una lista y la he devuelto."
   ]
  },
  {
   "cell_type": "code",
   "execution_count": 13,
   "id": "d5a60274",
   "metadata": {},
   "outputs": [
    {
     "name": "stdout",
     "output_type": "stream",
     "text": [
      "['orquesta', 'oso', 'ordenador', 'Otoño']\n",
      "['golondrina', 'granja', 'gato', 'Guitarra']\n",
      "['herramienta', 'Huevo', 'hilo', 'hola']\n",
      "['ratón', 'robot', 'Río', 'Rosa']\n"
     ]
    }
   ],
   "source": [
    "def find_words_with_letter(random_words_list, letter):\n",
    "    \"\"\"Función que recibe una lista de palabras y devuelve otra lista en la que sólo permanecen aquellas que empiezan por la letra recibida como segundo argumento (ya sea en mayúscula o minúscula)\n",
    "\n",
    "    Args:\n",
    "        random_words_list (list): Lista de palabras cualesquiera\n",
    "        letter (str): Letra por la que deben empezar las palabras filtradas\n",
    "\n",
    "    Returns:\n",
    "        list: Lista filtrada con las palabras que empiezan por la letra recibida\n",
    "    \"\"\"\n",
    "    words_with_letter = list(filter(lambda x: x[0].lower() == letter.lower(), random_words_list))\n",
    "    return words_with_letter\n",
    "\n",
    "words_list2 = [\"móvil\", \"Paco\", \"ratón\", \"pantalla\", \"orquesta\", \"golondrina\", \"herramienta\", \"robot\", \"oso\", \"Río\", \"mesa\", \"pájaro\", \"Montaña\", \"pelota\", \"Huevo\", \"ordenador\", \"patata\", \"museo\", \"hilo\",\"granja\", \"Rosa\", \"gato\", \"Otoño\", \"Guitarra\", \"hola\"]\n",
    "\n",
    "print(find_words_with_letter(words_list2, \"o\"))\n",
    "print(find_words_with_letter(words_list2, \"g\"))\n",
    "print(find_words_with_letter(words_list2, \"h\"))\n",
    "print(find_words_with_letter(words_list2, \"r\"))"
   ]
  },
  {
   "cell_type": "markdown",
   "id": "070ebf0d",
   "metadata": {},
   "source": [
    "He convertido la función que había desarrollado inicialmente para la letra P en una función genérica, añadiendo como segundo parámetro la letra por la que deben empezar las palabras filtradas, para que se pueda ejecutar con cualquier letra. El proceso es el mismo."
   ]
  },
  {
   "cell_type": "markdown",
   "id": "98dc497b",
   "metadata": {},
   "source": [
    "Ejercicio 15: Crea una función lambda que sume 3 a cada número de una lista dada."
   ]
  },
  {
   "cell_type": "code",
   "execution_count": 19,
   "id": "dc3bbb4b",
   "metadata": {},
   "outputs": [
    {
     "name": "stdout",
     "output_type": "stream",
     "text": [
      "[6, 7, 5, 8, 9]\n"
     ]
    }
   ],
   "source": [
    "number_list = [3, 4, 2, 5, 6]\n",
    "\n",
    "add_three = list(map(lambda x: x + 3, number_list))\n",
    "\n",
    "print(add_three)"
   ]
  },
  {
   "cell_type": "markdown",
   "id": "dde08df3",
   "metadata": {},
   "source": [
    "Este ejercicio me ha confundido un poco, quizá porque llevo trabajando con funciones lambda desde el principio. Primero he intentado hacer una función lambda por sí misma, pero sólo podía aplicarla a una variable individual, no a un iterable. Para ello, he tenido que recurrir a la función map, que me permitía aplicar la función lambda sobre cada elemento del iterable."
   ]
  },
  {
   "cell_type": "code",
   "execution_count": 23,
   "id": "1e17a4d3",
   "metadata": {},
   "outputs": [
    {
     "name": "stdout",
     "output_type": "stream",
     "text": [
      "[6, 7, 5, 8, 9]\n"
     ]
    }
   ],
   "source": [
    "def add_three_to_list(random_number_list):\n",
    "    \"\"\"Función que recibe una lista de números y devuelve otra lista sumando 3 a cada número.\n",
    "\n",
    "    Args:\n",
    "        random_number_list (list): Lista de números.\n",
    "\n",
    "    Returns:\n",
    "        list: Lista de números más 3.\n",
    "    \"\"\"\n",
    "    added_three = list(map(lambda x: x + 3, random_number_list))\n",
    "    return added_three\n",
    "\n",
    "print(add_three_to_list(number_list))"
   ]
  },
  {
   "cell_type": "markdown",
   "id": "5733d37a",
   "metadata": {},
   "source": [
    "Esta es la versión en forma de función, para poder aplicarla sobre cualquier lista de números."
   ]
  },
  {
   "cell_type": "code",
   "execution_count": 22,
   "id": "966a406b",
   "metadata": {},
   "outputs": [
    {
     "name": "stdout",
     "output_type": "stream",
     "text": [
      "[6, 7, 5, 8, 9]\n"
     ]
    }
   ],
   "source": [
    "def add_three_to_list2(random_number_list):\n",
    "    \"\"\"Función que recibe una lista de números y devuelve otra lista sumando 3 a cada número.\n",
    "\n",
    "    Args:\n",
    "        random_number_list (list): Lista de números.\n",
    "\n",
    "    Returns:\n",
    "        list: Lista de números más 3.\n",
    "    \"\"\"\n",
    "    added_three = [number + 3 for number in random_number_list]\n",
    "    return added_three\n",
    "\n",
    "print(add_three_to_list2(number_list))"
   ]
  },
  {
   "cell_type": "markdown",
   "id": "5464cba6",
   "metadata": {},
   "source": [
    "Por último, una alternativa utilizando list comprehension, lo cuál es más directo y sencillo en este caso, aunque no usa una función lambda como pide el enunciado"
   ]
  },
  {
   "cell_type": "markdown",
   "id": "2d6f97f2",
   "metadata": {},
   "source": [
    "Ejercicio 16 - Escribe una función que tome una cadena de texto y un número entero n como parámetros y devuelva una lista de todas las palabras que sean más largas que n. Usa la función filter()."
   ]
  },
  {
   "cell_type": "code",
   "execution_count": 8,
   "id": "533e255d",
   "metadata": {},
   "outputs": [
    {
     "name": "stdout",
     "output_type": "stream",
     "text": [
      "['llamo', 'Sergio']\n"
     ]
    }
   ],
   "source": [
    "def filter_longer_words(phrase, word_minimal_length):\n",
    "    \"\"\"Función que recibe una frase y un número y devuelve una lista de las palabras de la frase que tienen más caracteres (son más largas) que el número recibido\n",
    "\n",
    "    Args:\n",
    "        phrase (str): frase cuyas palabras se filtran por longitud\n",
    "        word_minimal_length (list): longitud máxima de las palabras que son eliminadas\n",
    "\n",
    "    Returns:\n",
    "        list: lista de palabras filtradas\n",
    "    \"\"\"\n",
    "    words = phrase.split(\" \")\n",
    "    no_punctuation_marks = list(map(lambda x: x.strip(\".,?¿¡!:;()/-\"), words))\n",
    "    longer_words = list(filter(lambda x: len(x) > word_minimal_length, no_punctuation_marks))\n",
    "    return longer_words\n",
    "\n",
    "print(filter_longer_words(\"Hola, me llamo Sergio\", 4))"
   ]
  },
  {
   "cell_type": "markdown",
   "id": "efcf5c0d",
   "metadata": {},
   "source": [
    "Para resolver este ejercicio he tirado de algunas técnicas de ejercicios anteriores.\n",
    "1. En primer lugar, he separado las palabras de la frase recibida con el método .split()\n",
    "2. Después, he eliminado los signos de puntuación aplicando el método .strip() a todos los elementos de la lista words mediante la función map()\n",
    "3. A continuación, he utilizado la función filter() para quedarme únicamente con las palabras más largas que la longitud recibida. Esta lista es la que devuelve la función"
   ]
  },
  {
   "cell_type": "code",
   "execution_count": null,
   "id": "f91a71ee",
   "metadata": {},
   "outputs": [
    {
     "name": "stdout",
     "output_type": "stream",
     "text": [
      "['llamo', 'Sergio']\n"
     ]
    }
   ],
   "source": [
    "def filter_longer_words(phrase, word_minimal_length):\n",
    "    \"\"\"Función que recibe una frase y un número y devuelve una lista de las palabras de la frase que tienen más caracteres (son más largas) que el número recibido\n",
    "\n",
    "    Args:\n",
    "        phrase (str): frase cuyas palabras se filtran por longitud\n",
    "        word_minimal_length (list): longitud máxima de las palabras que son eliminadas\n",
    "\n",
    "    Returns:\n",
    "        list: lista de palabras filtradas\n",
    "    \"\"\"\n",
    "    words = phrase.split(\" \")\n",
    "    no_punctuation_marks = [word.strip(\".,?¿¡!:;()/-\") for word in words]\n",
    "    longer_words = [word for word in no_punctuation_marks if len(word) > word_minimal_length]\n",
    "    return longer_words\n",
    "\n",
    "print(filter_longer_words(\"Hola, me llamo Sergio\", 4))"
   ]
  },
  {
   "cell_type": "markdown",
   "id": "cd470695",
   "metadata": {},
   "source": [
    "Alternativa con list comprehension tanto en la eliminación de signos de puntuación como en el filtrado de palabras por longitud (aunque el ejercicio pide específicamente la función filter)"
   ]
  },
  {
   "cell_type": "markdown",
   "id": "d45f60e3",
   "metadata": {},
   "source": [
    "Ejercicio 17 - Crea una función que tome una lista de dígitos y devuelva el número correspondiente. Por ejemplo, [5,7,2] corresponde al número 572. Usa la función reduce()."
   ]
  },
  {
   "cell_type": "code",
   "execution_count": 4,
   "id": "676065b1",
   "metadata": {},
   "outputs": [
    {
     "name": "stdout",
     "output_type": "stream",
     "text": [
      "572\n"
     ]
    }
   ],
   "source": [
    "from functools import reduce\n",
    "\n",
    "def join_digits(digits_list):\n",
    "    \"\"\"Función que recibe una lista de dígitos y los une para formar un número entero\n",
    "\n",
    "    Args:\n",
    "        digits_list (list): Lista de dígitos (números enteros) que se unirán\n",
    "\n",
    "    Returns:\n",
    "        int: Número entero final, resultado de unir los dígitos de la lista\n",
    "    \"\"\"\n",
    "    final_number = reduce(lambda x, y: x * 10 + y, digits_list)\n",
    "    return final_number\n",
    "\n",
    "print(join_digits([5, 7, 2]))"
   ]
  },
  {
   "cell_type": "markdown",
   "id": "391fdab7",
   "metadata": {},
   "source": [
    "Para resolver el ejercicio, antes he necesitado importar la función reduce del módulo functools, ya que no está por defecto en Python. Después:\n",
    "1. He aplicado la función reduce() a la lista de dígitos. En la función lambda, mi idea ha sido multiplicar cada dígito por 10 para que se pudiera \"unir\" con el siguiente. He pensado en usar el método .join, pero no creo que sea viable en números enteros (acabo de probarlo en la siguiente celda y, efectivamente, no se puede utilizar con enteros, sólo con cadenas de texto).\n",
    "2. La función reduce() devuelve directamente un único valor al realizar todas las operaciones de cada elemento del iterable con el siguiente, por lo que no hace falta transformarlo dicho retorno. Ese número final es el que se devuelve en la función."
   ]
  },
  {
   "cell_type": "code",
   "execution_count": 10,
   "id": "963cf4af",
   "metadata": {},
   "outputs": [
    {
     "name": "stdout",
     "output_type": "stream",
     "text": [
      "572\n"
     ]
    }
   ],
   "source": [
    "def join_digits(digits_list):\n",
    "    \"\"\"Función que recibe una lista de dígitos y los une para formar un número entero\n",
    "\n",
    "    Args:\n",
    "        digits_list (list): Lista de dígitos que se unirán\n",
    "\n",
    "    Returns:\n",
    "        int: Número entero final, resultado de unir los dígitos de la lista\n",
    "    \"\"\"\n",
    "    transformed_to_int = list(map(lambda x: int(x), digits_list))\n",
    "    final_number = reduce(lambda x, y: x * 10 + y, transformed_to_int)\n",
    "    return final_number\n",
    "\n",
    "print(join_digits([\"5\", 7, 2]))"
   ]
  },
  {
   "cell_type": "markdown",
   "id": "92ca978b",
   "metadata": {},
   "source": [
    "Alternativa añadiendo una transformación inicial a números enteros, permitiendo así que los dígitos puedan venir en forma de string"
   ]
  },
  {
   "cell_type": "code",
   "execution_count": 11,
   "id": "80fb13b2",
   "metadata": {},
   "outputs": [
    {
     "name": "stdout",
     "output_type": "stream",
     "text": [
      "572\n"
     ]
    }
   ],
   "source": [
    "def join_digits(digits_list):\n",
    "    \"\"\"Función que recibe una lista de dígitos y los une para formar un número entero\n",
    "\n",
    "    Args:\n",
    "        digits_list (list): Lista de dígitos que se unirán\n",
    "\n",
    "    Returns:\n",
    "        int: Número entero final, resultado de unir los dígitos de la lista\n",
    "    \"\"\"\n",
    "    final_number = reduce(lambda x, y: int(x) * 10 + int(y), digits_list)\n",
    "    return final_number\n",
    "\n",
    "print(join_digits([\"5\", 7, 2]))"
   ]
  },
  {
   "cell_type": "markdown",
   "id": "1b869c1c",
   "metadata": {},
   "source": [
    "Alternativa de la alternativa (xD), reduciéndola más aún al hacer la transformación a enteros dentro del propio reduce"
   ]
  },
  {
   "cell_type": "code",
   "execution_count": null,
   "id": "09d48214",
   "metadata": {},
   "outputs": [
    {
     "name": "stdout",
     "output_type": "stream",
     "text": [
      "572\n"
     ]
    }
   ],
   "source": [
    "def join_digits(digits_list):\n",
    "    \"\"\"Función que recibe una lista de dígitos y los une para formar un número entero\n",
    "\n",
    "    Args:\n",
    "        digits_list (list): Lista de dígitos que se unirán\n",
    "\n",
    "    Returns:\n",
    "        int: Número entero final, resultado de unir los dígitos de la lista\n",
    "    \"\"\"\n",
    "    transformed_to_str = list(map(lambda x: str(x), digits_list))\n",
    "    number_joined = \"\".join(transformed_to_str)\n",
    "    final_number = int(number_joined)\n",
    "    return final_number\n",
    "\n",
    "print(join_digits([5, 7, 2]))"
   ]
  },
  {
   "cell_type": "markdown",
   "id": "58d001b1",
   "metadata": {},
   "source": [
    "Versión usando el método .join(). Para ello transformo los elementos de la lista recibida en string, y aplico dicho método al iterable. Después, el número final que retorno es el resultado de join transformado de nuevo a entero"
   ]
  }
 ],
 "metadata": {
  "kernelspec": {
   "display_name": "base",
   "language": "python",
   "name": "python3"
  },
  "language_info": {
   "codemirror_mode": {
    "name": "ipython",
    "version": 3
   },
   "file_extension": ".py",
   "mimetype": "text/x-python",
   "name": "python",
   "nbconvert_exporter": "python",
   "pygments_lexer": "ipython3",
   "version": "3.12.7"
  }
 },
 "nbformat": 4,
 "nbformat_minor": 5
}
