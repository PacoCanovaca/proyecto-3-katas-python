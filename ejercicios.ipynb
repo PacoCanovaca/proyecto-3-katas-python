{
 "cells": [
  {
   "cell_type": "markdown",
   "id": "21778060",
   "metadata": {},
   "source": [
    "Ejercicio 1 - Escribe una función que reciba una cadena de texto como parámetro y devuelva un diccionario con las frecuencias de cada letra en la cadena. Los espacios no deben ser considerados."
   ]
  },
  {
   "cell_type": "code",
   "execution_count": null,
   "id": "8f512822",
   "metadata": {},
   "outputs": [
    {
     "name": "stdout",
     "output_type": "stream",
     "text": [
      "{'H': 1, 'o': 3, 'l': 3, 'a': 3, ',': 1, 'm': 2, 'e': 1, 'P': 1, 'c': 1}\n"
     ]
    }
   ],
   "source": [
    "def obtain_letters_frequency(string):\n",
    "    \"\"\"Función que recibe un string y devuelve un diccionario con la frecuencia de cada caracter (omitiendo los espacios)\n",
    "\n",
    "    Args:\n",
    "        string (str): Cualquier cadena de texto\n",
    "\n",
    "    Returns:\n",
    "        frequencies (dict): En cada par, la clave es el caracter y el valor es la frecuencia del mismo dentro del string\n",
    "    \"\"\"\n",
    "    frequencies = {}\n",
    "    for i in range(len(string)):\n",
    "        frequencies_keys = frequencies.keys()\n",
    "        if string[i] == \" \":\n",
    "            continue        \n",
    "        if string[i] in frequencies_keys:\n",
    "            frequencies[string[i]] += 1\n",
    "        else:\n",
    "            frequencies[string[i]] = 1\n",
    "    return frequencies\n",
    "\n",
    "print(obtain_letters_frequency(\"Hola, me llamo Paco\"))"
   ]
  },
  {
   "cell_type": "markdown",
   "id": "4e68d848",
   "metadata": {},
   "source": [
    "1. He declarado un diccionario vacío.\n",
    "2. Posteriormente, he creado un bucle que recorre el string caracter por caracter (usando la función range):\n",
    "    - En cada iteración, se genera la variable de claves del diccionario, lo que permite comprobar a continuación si ese caracter ya está incluido en el diccionario (en cuyo caso se suma 1 a su frecuencia) o si no lo está (se crea con el valor 1). \n",
    "    - Además, como primera condición, he establecido que si el caracter es un espacio, directamente se pasa a la siguiente iteración mediante la palabra clave continue, ya que los espacios no nos interesan en este caso. \n",
    "    - Por otro lado, en la segunda condición he utilizado la palabra clave \"in\", que funciona como el método .includes de JavaScript, es decir, analiza si en el objeto está contenido un elemento. Esto no sé si salía en el temario, pero he tenido que buscarlo.\n",
    "3. Al final de todo, la función devuelve el diccionario creado."
   ]
  },
  {
   "cell_type": "code",
   "execution_count": null,
   "id": "4202ca16",
   "metadata": {},
   "outputs": [
    {
     "name": "stdout",
     "output_type": "stream",
     "text": [
      "{'a': 3, 'c': 1, 'e': 1, 'h': 1, 'l': 3, 'm': 2, 'o': 3, 'p': 1}\n"
     ]
    }
   ],
   "source": [
    "def obtain_letters_frequency2(string):\n",
    "    \"\"\"Función que recibe un string y devuelve un diccionario con la frecuencia de cada caracter (omitiendo los espacios)\n",
    "\n",
    "    Args:\n",
    "        string (str): Cualquier cadena de texto\n",
    "\n",
    "    Returns:\n",
    "        frequencies_ordered (dict): En cada par, la clave es el caracter y el valor es la frecuencia del mismo dentro del string. Además, este diccionario está ordenado por orden alfabético en sus claves.\n",
    "    \"\"\"\n",
    "    frequencies = {}\n",
    "    string_en_minusculas = string.lower()\n",
    "    frequencies_keys = frequencies.keys()\n",
    "    for char in string_en_minusculas:\n",
    "        if char < \"a\" or char > \"z\":\n",
    "            continue        \n",
    "        if char in frequencies_keys:\n",
    "            frequencies[char] += 1\n",
    "        else:\n",
    "            frequencies[char] = 1\n",
    "    frequencies_ordered = dict(sorted(frequencies.items()))\n",
    "    return frequencies_ordered\n",
    "\n",
    "print(obtain_letters_frequency2(\"Hola, me llamo Paco\"))"
   ]
  },
  {
   "cell_type": "markdown",
   "id": "754b54d9",
   "metadata": {},
   "source": [
    "Cambios hechos:\n",
    "\n",
    "1. Aplicar el bucle directamente sobre el string (en un principio no sabía que se podía recorrer strings con la estructura de bucles de Python, pensaba que sólo funcionaba con estructuras de datos como listas, tuplas, diccionarios y sets)\n",
    "2. Crear la lista de claves del diccionario fuera del bucle hace que no se tenga que crear en cada iteración y funcione de la misma manera igualmente\n",
    "3. Transformar el string en minúsculas para que no influya la mayúscula o la minúscula a la hora de contar la frecuencia de una letra\n",
    "4. Atacar a cualquier caracter que no sea una letra (ya que en el enunciado se habla específicamente de letras). Esto lo hago haciendo que pase a la siguiente iteración sin hacer nada en caso de que el caracter sea \"menor\" que a y \"mayor\" que z (respecto a los rangos de ASCII)\n",
    "5. Ordenar por orden alfabético las claves del diccionario de frecuencias, ordenando mediante el método sorted los pares de ítems del mismo, lo cual genera una lista de tuplas en la que cada tupla es un par clave-valor, y transformando esa lista en un diccionario posteriormente.\n"
   ]
  },
  {
   "cell_type": "markdown",
   "id": "60dbf764",
   "metadata": {},
   "source": [
    "Ejercicio 2 - Dada una lista de números, obtén una nueva lista con el doble de cada valor. Usa la función map()."
   ]
  },
  {
   "cell_type": "code",
   "execution_count": 7,
   "id": "9ea2b3f9",
   "metadata": {},
   "outputs": [
    {
     "name": "stdout",
     "output_type": "stream",
     "text": [
      "[4, 10, 12, 18, 20, 30, 48, 56, 70, 78]\n"
     ]
    }
   ],
   "source": [
    "numbers_list = [2, 5, 6, 9, 10, 15, 24, 28, 35, 39]\n",
    "\n",
    "double_numbers = list(map(lambda x: x*2, numbers_list))\n",
    "\n",
    "print(double_numbers)"
   ]
  },
  {
   "cell_type": "markdown",
   "id": "41ff1721",
   "metadata": {},
   "source": [
    "1. He creado la función map utilizando una función lambda (las acabo de trabajar en la teoría) e incluyendo la lista de números\n",
    "2. He transformado el retorno en una lista"
   ]
  },
  {
   "cell_type": "code",
   "execution_count": 8,
   "id": "a20615e9",
   "metadata": {},
   "outputs": [
    {
     "name": "stdout",
     "output_type": "stream",
     "text": [
      "[4, 10, 12, 18, 20, 30, 48, 56, 70, 78]\n"
     ]
    }
   ],
   "source": [
    "double_numbers2 = [elemento * 2 for elemento in numbers_list]\n",
    "\n",
    "print(double_numbers2)"
   ]
  },
  {
   "cell_type": "markdown",
   "id": "e34596ca",
   "metadata": {},
   "source": [
    "Alternativa con la list comprehension en lugar de la función map"
   ]
  },
  {
   "cell_type": "markdown",
   "id": "6fc25bb3",
   "metadata": {},
   "source": [
    "Ejercicio 3 - Escribe una función que tome una lista de palabras y una palabra objetivo como parámetros. La función debe devolver una lista con todas las palabras de la lista original que contengan la palabra objetivo."
   ]
  },
  {
   "cell_type": "code",
   "execution_count": 4,
   "id": "4cdc8bb7",
   "metadata": {},
   "outputs": [
    {
     "name": "stdout",
     "output_type": "stream",
     "text": [
      "['automóvil', 'autopista', 'autonomía']\n",
      "['televisión', 'telepatía']\n",
      "['automóvil', 'avión', 'avioneta', 'aviso', 'televisión', 'lluvia']\n"
     ]
    }
   ],
   "source": [
    "words = [\"camino\", \"caminante\", \"camiseta\", \"cámara\", \"bicicleta\", \"automóvil\", \"autopista\", \"autonomía\", \"computadora\", \"composición\", \"avión\", \"avioneta\", \"aviso\", \"televisión\", \"telepatía\", \"lluvia\", \"llavero\", \"llanura\", \"playa\", \"plátano\"]\n",
    "\n",
    "words_with_auto = list(filter(lambda x: \"auto\" in x, words))\n",
    "words_with_tele = list(filter(lambda x: \"tele\" in x, words))\n",
    "words_with_vi = list(filter(lambda x: \"vi\" in x, words))\n",
    "\n",
    "print(words_with_auto)\n",
    "print(words_with_tele)\n",
    "print(words_with_vi)"
   ]
  },
  {
   "cell_type": "markdown",
   "id": "8178955d",
   "metadata": {},
   "source": [
    "1. He usado el método filter, incluyendo una función lambda en la que aplico la palabra clave \"in\" para analizar si el fragmento elegido está incluido en cada palabra de la lista.\n",
    "2. Después, he transformado el objeto devuelto en una lista.\n",
    "\n",
    "Lo he hecho con varios fragmentos"
   ]
  },
  {
   "cell_type": "code",
   "execution_count": 5,
   "id": "3e4cc5f9",
   "metadata": {},
   "outputs": [
    {
     "name": "stdout",
     "output_type": "stream",
     "text": [
      "['automóvil', 'autopista', 'autonomía']\n"
     ]
    }
   ],
   "source": [
    "words_with_auto2 = [elemento for elemento in words if \"auto\" in elemento]\n",
    "\n",
    "print(words_with_auto2)"
   ]
  },
  {
   "cell_type": "markdown",
   "id": "df88359f",
   "metadata": {},
   "source": [
    "Alternativa con list comprehension en lugar de la función filter"
   ]
  },
  {
   "cell_type": "code",
   "execution_count": 8,
   "id": "af65c9bb",
   "metadata": {},
   "outputs": [
    {
     "name": "stdout",
     "output_type": "stream",
     "text": [
      "['automóvil', 'autopista', 'autonomía']\n",
      "['televisión', 'telepatía']\n",
      "['automóvil', 'avión', 'avioneta', 'aviso', 'televisión', 'lluvia']\n"
     ]
    }
   ],
   "source": [
    "def filter_words(word, words_list):\n",
    "    \"\"\"Función que recibe una palabra o fragmento y una lista y filtra la lista, manteniendo sólo las palabra que incluyen el fragmento recibido como argumento\n",
    "\n",
    "    Args:\n",
    "        word (string): Fragmento que servirá como filtro\n",
    "        words_list (list): Lista de palabras que se filtrará\n",
    "\n",
    "    Returns:\n",
    "        list: Lista filtrada\n",
    "    \"\"\"\n",
    "    words_list_filtered = list(filter(lambda x: word in x, words_list))\n",
    "    return words_list_filtered\n",
    "\n",
    "print(filter_words(\"auto\", words))\n",
    "print(filter_words(\"tele\", words))\n",
    "print(filter_words(\"vi\", words))"
   ]
  },
  {
   "cell_type": "markdown",
   "id": "4034108e",
   "metadata": {},
   "source": [
    "Por último, he generado la función para aplicarla siempre que se quiera, la cual requiere como parámetros la palabra o fragmento y la lista objetivo"
   ]
  },
  {
   "cell_type": "markdown",
   "id": "a86e5515",
   "metadata": {},
   "source": [
    "Ejercicio 4 - Genera una función que calcule la diferencia entre los valores de dos listas. Usa la función map()."
   ]
  },
  {
   "cell_type": "code",
   "execution_count": 15,
   "id": "708ebd45",
   "metadata": {},
   "outputs": [
    {
     "name": "stdout",
     "output_type": "stream",
     "text": [
      "[2, 3, 8]\n",
      "[0, -1, 7]\n"
     ]
    }
   ],
   "source": [
    "def calculate_subtraction(first_list, second_list):\n",
    "    \"\"\"Función que recibe dos listas y resta los elementos de la segunda a los de la primera, emparejados por su índice\n",
    "    Args:\n",
    "        first_list (list): Lista de números enteros o decimales\n",
    "        second_list (list): Lista de números enteros o decimales\n",
    "\n",
    "    Returns:\n",
    "        list: Lista de diferencias\n",
    "    \"\"\"\n",
    "    subtraction = list(map(lambda pair: pair[0]-pair[1], zip(first_list, second_list)))\n",
    "    return subtraction\n",
    "\n",
    "print(calculate_subtraction([4, 6, 12], [2, 3, 4]))\n",
    "print(calculate_subtraction([5, 3, 2], [5, 4, -5]))"
   ]
  },
  {
   "cell_type": "markdown",
   "id": "c729ac72",
   "metadata": {},
   "source": [
    "En esta función hay tres niveles. Los analizo desde dentro hasta fuera:\n",
    "\n",
    "1. He usado la función zip() para generar una lista de tuplas que emparejase a los elementos de la primera y la segunda lista según su índice.\n",
    "2. He aplicado la función map() con una función lambda que devuelve el resultado de restar el elemento de la primera lista menos el elemento de la segunda (que son el primer y el segundo elemento de la tupla respectivamente), esto a lo largo de todos los índices de ambas listas (siendo cada índice una tupla).\n",
    "3. He transformado el objeto resultante de la función map() en una lista a través de la palabra clave list() y lo he guardado todo en la variable substraction, que es la que se devuelve al final de la función"
   ]
  },
  {
   "cell_type": "code",
   "execution_count": 22,
   "id": "44a01b02",
   "metadata": {},
   "outputs": [
    {
     "name": "stdout",
     "output_type": "stream",
     "text": [
      "[2, 3, 8]\n",
      "[0, -1, 7]\n"
     ]
    }
   ],
   "source": [
    "def calculate_subtraction2(first_list, second_list):\n",
    "    \"\"\"Función que recibe dos listas y resta los elementos de la segunda a los de la primera, emparejados por su índice\n",
    "    Args:\n",
    "        first_list (list): Lista de números enteros o decimales\n",
    "        second_list (list): Lista de números enteros o decimales\n",
    "\n",
    "    Returns:\n",
    "        list: Lista de diferencias\n",
    "    \"\"\"\n",
    "    subtraction = list(map(lambda x, y: x - y, first_list, second_list))\n",
    "    return subtraction\n",
    "\n",
    "print(calculate_subtraction2([4, 6, 12], [2, 3, 4]))\n",
    "print(calculate_subtraction2([5, 3, 2], [5, 4, -5]))"
   ]
  },
  {
   "cell_type": "markdown",
   "id": "4d559f2b",
   "metadata": {},
   "source": [
    "Alternativa sin usar la función zip(), incluyendo las dos listas como argumentos directamente en la función map() (no sabía que esto se podía hacer), y creando una variable para cada lista en la función lambda()"
   ]
  },
  {
   "cell_type": "code",
   "execution_count": 21,
   "id": "cf19a58d",
   "metadata": {},
   "outputs": [
    {
     "name": "stdout",
     "output_type": "stream",
     "text": [
      "[2, 3, 8]\n",
      "[0, -1, 7]\n"
     ]
    }
   ],
   "source": [
    "def calculate_subtraction3(first_list, second_list):\n",
    "    \"\"\"Función que recibe dos listas y resta los elementos de la segunda a los de la primera, emparejados por su índice\n",
    "    Args:\n",
    "        first_list (list): Lista de números enteros o decimales\n",
    "        second_list (list): Lista de números enteros o decimales\n",
    "\n",
    "    Returns:\n",
    "        list: Lista de diferencias\n",
    "    \"\"\"\n",
    "    subtraction = [x - y for x, y in zip(first_list, second_list)]\n",
    "    return subtraction\n",
    "\n",
    "print(calculate_subtraction3([4, 6, 12], [2, 3, 4]))\n",
    "print(calculate_subtraction3([5, 3, 2], [5, 4, -5]))"
   ]
  },
  {
   "cell_type": "markdown",
   "id": "91695316",
   "metadata": {},
   "source": [
    "Alternativa sin usar la función map() (no es lo que pide el enunciado pero por rizar el rizo algo más), generando una list comprehension y utilizando en ella la función zip como en la primera resolución, para crear una lista de tuplas que incluyen las parejas de elementos según su índice."
   ]
  }
 ],
 "metadata": {
  "kernelspec": {
   "display_name": "base",
   "language": "python",
   "name": "python3"
  },
  "language_info": {
   "codemirror_mode": {
    "name": "ipython",
    "version": 3
   },
   "file_extension": ".py",
   "mimetype": "text/x-python",
   "name": "python",
   "nbconvert_exporter": "python",
   "pygments_lexer": "ipython3",
   "version": "3.12.7"
  }
 },
 "nbformat": 4,
 "nbformat_minor": 5
}
